{
 "cells": [
  {
   "cell_type": "code",
   "execution_count": 9,
   "metadata": {},
   "outputs": [],
   "source": [
    "!pip install -qU langchain-groq mattermostdriver langchain"
   ]
  },
  {
   "cell_type": "code",
   "execution_count": 8,
   "metadata": {},
   "outputs": [],
   "source": [
    "from mattermostdriver import Driver\n",
    "driver = Driver({\n",
    "    \"token\": os.environ[\"TOKEN\"], \n",
    "    \"url\": \"agora.parolla.chat\",\n",
    "    \"port\": 443,\n",
    "    \"request_timeout\": 3000,\n",
    "    \"scheme\": \"https\" ,\n",
    "})\n",
    "\n",
    "\n",
    "driver.login()\n",
    "user_id = driver.users.get_user(user_id=\"me\")[\"id\"]\n",
    "resp = driver.posts.create_post({\n",
    "  \"channel_id\": \"844ummn43ind7b35zwgo51jcnh\",\n",
    "  \"message\": \"asdasdsa\",\n",
    "  \"root_id\": '',\n",
    "  \"file_ids\": [],\n",
    "  \"props\": {},\n",
    "  \"metadata\": {}\n",
    "})\n",
    "resp = driver.reactions.create_reaction({\n",
    "    \"user_id\": user_id,\n",
    "    \"post_id\": \"a4yk6et3dpn9mp5zozwrnw1doa\",\n",
    "    \"emoji_name\": \"eyes\",\n",
    "    \"create_at\": 0\n",
    "})"
   ]
  },
  {
   "cell_type": "code",
   "execution_count": 1,
   "metadata": {},
   "outputs": [],
   "source": [
    "from langchain_groq import ChatGroq\n",
    "from langchain_core.prompts import ChatPromptTemplate\n",
    "from langchain_core.output_parsers import StrOutputParser\n",
    "from prompt import tutor_prompt_template\n",
    "import os\n",
    "\n",
    "model = ChatGroq(model=\"llama3-8b-8192\")\n",
    "parser = StrOutputParser()\n",
    "\n",
    "prompt_template = ChatPromptTemplate.from_messages([\n",
    "    ('system', tutor_prompt_template),\n",
    "    ('user', '{text}')\n",
    "])\n",
    "chain = prompt_template | model | parser"
   ]
  },
  {
   "cell_type": "code",
   "execution_count": 2,
   "metadata": {},
   "outputs": [
    {
     "data": {
      "text/plain": [
       "'Bonghjornu Saveriu ! (Salute Xavier !) Come stai ?'"
      ]
     },
     "execution_count": 2,
     "metadata": {},
     "output_type": "execute_result"
    }
   ],
   "source": [
    "chain.invoke({\"text\": \"Salute O Savé.\"})\n"
   ]
  },
  {
   "cell_type": "code",
   "execution_count": null,
   "metadata": {},
   "outputs": [],
   "source": []
  }
 ],
 "metadata": {
  "kernelspec": {
   "display_name": "mm-bot",
   "language": "python",
   "name": "python3"
  },
  "language_info": {
   "codemirror_mode": {
    "name": "ipython",
    "version": 3
   },
   "file_extension": ".py",
   "mimetype": "text/x-python",
   "name": "python",
   "nbconvert_exporter": "python",
   "pygments_lexer": "ipython3",
   "version": "3.12.3"
  }
 },
 "nbformat": 4,
 "nbformat_minor": 2
}
